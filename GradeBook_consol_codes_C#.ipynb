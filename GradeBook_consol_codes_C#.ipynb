{
 "cells": [
  {
   "cell_type": "code",
   "execution_count": null,
   "metadata": {},
   "outputs": [],
   "source": [
    "#Terminal commands from tutorial\n",
    "#make a directory called gradebook\n",
    "mkdir gradebook\n",
    "#change directory\n",
    "cd gradebook\n",
    "#inside gradebook create two other directories, src for source and test\n",
    "#then make directory GradeBook inside src\n",
    "mkdir src\n",
    "mkdir test\n",
    "cd src\n",
    "mkdir GradeBook\n",
    "#create a new console project inside GradeBook\n",
    "dotnet new console\n",
    "# cd ..\\ will take you back one level, ..\\..\\ two, etc.\n",
    "cd ..\\..\\\n",
    "dotnet run --project src\\GradeBook"
   ]
  }
 ],
 "metadata": {
  "kernelspec": {
   "display_name": ".NET (C#)",
   "language": "C#",
   "name": ".net-csharp"
  },
  "language_info": {
   "file_extension": ".cs",
   "mimetype": "text/x-csharp",
   "name": "C#",
   "pygments_lexer": "csharp",
   "version": "8.0"
  }
 },
 "nbformat": 4,
 "nbformat_minor": 4
}
